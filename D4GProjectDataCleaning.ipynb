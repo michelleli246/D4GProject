{
  "nbformat": 4,
  "nbformat_minor": 0,
  "metadata": {
    "colab": {
      "name": "D4GProjectDataCleaning.ipynb",
      "provenance": [],
      "collapsed_sections": []
    },
    "kernelspec": {
      "display_name": "Python 3",
      "name": "python3"
    }
  },
  "cells": [
    {
      "cell_type": "markdown",
      "metadata": {
        "id": "W-X-lX_PC9yw"
      },
      "source": [
        "# Entomology Data Cleaning Procedure - Ted Schultz"
      ]
    },
    {
      "cell_type": "markdown",
      "metadata": {
        "id": "L_IMpgBqjeOl"
      },
      "source": [
        "# Setup"
      ]
    },
    {
      "cell_type": "markdown",
      "metadata": {
        "id": "K1kV3dalkydq"
      },
      "source": [
        "Use the block below to set your csv file names"
      ]
    },
    {
      "cell_type": "code",
      "metadata": {
        "id": "tp50St-0kk8I"
      },
      "source": [
        "# raw input file name:\n",
        "raw_input_file = 'antinputfulldata.csv'\n",
        "\n",
        "# taxonomy irn vlookup file name:\n",
        "taxonomy_irn_vlookup_file = 'step5lookups.csv'\n",
        "\n",
        "# parties irn vlookup file name:\n",
        "parties_irn_vlookup_file = 'step6lookups.csv'"
      ],
      "execution_count": null,
      "outputs": []
    },
    {
      "cell_type": "code",
      "metadata": {
        "colab": {
          "resources": {
            "http://localhost:8080/nbextensions/google.colab/files.js": {
              "data": "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",
              "ok": true,
              "headers": [
                [
                  "content-type",
                  "application/javascript"
                ]
              ],
              "status": 200,
              "status_text": ""
            }
          },
          "base_uri": "https://localhost:8080/",
          "height": 140
        },
        "id": "101RzTjWUNBx",
        "outputId": "40e5e78c-a557-4054-d1a8-96575e1b34b0"
      },
      "source": [
        "import pandas as pd\n",
        "\n",
        "# load in CSVs\n",
        "from google.colab import files\n",
        "data_to_load = files.upload()"
      ],
      "execution_count": null,
      "outputs": [
        {
          "output_type": "display_data",
          "data": {
            "text/html": [
              "\n",
              "     <input type=\"file\" id=\"files-242c06f6-0607-46b8-9ecd-f99f127eff21\" name=\"files[]\" multiple disabled\n",
              "        style=\"border:none\" />\n",
              "     <output id=\"result-242c06f6-0607-46b8-9ecd-f99f127eff21\">\n",
              "      Upload widget is only available when the cell has been executed in the\n",
              "      current browser session. Please rerun this cell to enable.\n",
              "      </output>\n",
              "      <script src=\"/nbextensions/google.colab/files.js\"></script> "
            ],
            "text/plain": [
              "<IPython.core.display.HTML object>"
            ]
          },
          "metadata": {
            "tags": []
          }
        },
        {
          "output_type": "stream",
          "text": [
            "Saving antinputfulldata.csv to antinputfulldata.csv\n",
            "Saving step5lookups.csv to step5lookups.csv\n",
            "Saving step6lookups.csv to step6lookups.csv\n"
          ],
          "name": "stdout"
        }
      ]
    },
    {
      "cell_type": "code",
      "metadata": {
        "id": "BB1wSrWrlefP"
      },
      "source": [
        "import io\n",
        "\n",
        "#load in antcleaningsampledata.csv\n",
        "initial_file = pd.read_csv(io.BytesIO(data_to_load[raw_input_file]),encoding='latin-1',dtype=str)\n",
        "\n",
        "#load in taxonomy IRN lookups csv\n",
        "irn_lookups = pd.read_csv(io.BytesIO(data_to_load[taxonomy_irn_vlookup_file]),encoding='latin-1',dtype = str)\n",
        "\n",
        "#load in parties IRN lookups csv\n",
        "party_irn_lookups = pd.read_csv(io.BytesIO(data_to_load[parties_irn_vlookup_file]),encoding='latin-1',dtype = str)"
      ],
      "execution_count": null,
      "outputs": []
    },
    {
      "cell_type": "markdown",
      "metadata": {
        "id": "GQg7PmuLnC6E"
      },
      "source": [
        "# Data Cleaning"
      ]
    },
    {
      "cell_type": "markdown",
      "metadata": {
        "id": "gKpjtSbtTT9l"
      },
      "source": [
        "## STEP 2"
      ]
    },
    {
      "cell_type": "code",
      "metadata": {
        "id": "_W_YunolTRTU"
      },
      "source": [
        "#duplicate initial df\n",
        "delete_null_df = initial_file.copy(deep=True)"
      ],
      "execution_count": null,
      "outputs": []
    },
    {
      "cell_type": "markdown",
      "metadata": {
        "id": "X13S0bjxWW4e"
      },
      "source": [
        "### Delete rows where certain columns are empty  (currently commented out, not being run for this procedure)"
      ]
    },
    {
      "cell_type": "code",
      "metadata": {
        "id": "VEYZq9efU2YM"
      },
      "source": [
        "#delete rows where columns in no_null_cols are null\n",
        "no_null_cols = ['Object Number Prefix']\n",
        "\n",
        "#delete_null_df = delete_null_df.dropna(subset = no_null_cols)"
      ],
      "execution_count": null,
      "outputs": []
    },
    {
      "cell_type": "markdown",
      "metadata": {
        "id": "FQ-ZRQ_6wD3D"
      },
      "source": [
        "## STEP 3"
      ]
    },
    {
      "cell_type": "markdown",
      "metadata": {
        "id": "n6_3MpcFuiLb"
      },
      "source": [
        "### Add standard val columns: Blue columns"
      ]
    },
    {
      "cell_type": "markdown",
      "metadata": {
        "id": "B8qEUG7grQZ6"
      },
      "source": [
        "#### Add values to every row"
      ]
    },
    {
      "cell_type": "code",
      "metadata": {
        "id": "YaBdbpi5lTve"
      },
      "source": [
        "#duplicate df from step 2 after unnecessary rows were deleted\n",
        "add_standard_val_df = delete_null_df.copy(deep=True)"
      ],
      "execution_count": null,
      "outputs": []
    },
    {
      "cell_type": "code",
      "metadata": {
        "id": "K8jV0t9Jm-sq"
      },
      "source": [
        "# Standard val column names and their values\n",
        "#[Col name, Value]\n",
        "\n",
        "standard_val_cols = [\n",
        "  ['CatCatalog' , 'Specimen Inventory'],\n",
        "  ['CatObjectType' , 'Specimen/lot'],\n",
        "  ['CatOtherNumbersType_tab(1)' , 'Schultz Lot No.'],\n",
        "  ['CatOtherNumbersSource_tab(1)' , 'AntLab FileMaker Database'],\n",
        "  ['CatOtherNumbersType_tab(2)' , 'Collector No.'],\n",
        "  ['CatOtherNumbersSource_tab(2)' , 'label'],\n",
        "  ['StaRecordStatus_tab' , 'Reviewed'],\n",
        "  ['StaRecordDate0' , 'November  2020'],\n",
        "  ['StaRecordRemarks_tab' , 'Submitted by T. Schultz, SI'],\n",
        "  ['NotNmnhType_tab(1)' , 'Lot Specimen Association'],\n",
        "  ['NotNmnhWeb_tab(1)' , 'Yes'],\n",
        "  ['ZooPrepLocationRef_tab.irn' , '10028267'],\n",
        "  ['ZooPreparationCount_tab' , '1']\n",
        "]"
      ],
      "execution_count": null,
      "outputs": []
    },
    {
      "cell_type": "code",
      "metadata": {
        "id": "hqClehZetd9C"
      },
      "source": [
        "#insert standard cols\n",
        "for i in standard_val_cols:\n",
        "  add_standard_val_df.insert(0,i[0],i[1])"
      ],
      "execution_count": null,
      "outputs": []
    },
    {
      "cell_type": "markdown",
      "metadata": {
        "id": "ss-FvCgdrWol"
      },
      "source": [
        "#### Add standard value to row ONLY if there is a value in another column"
      ]
    },
    {
      "cell_type": "code",
      "metadata": {
        "id": "CKaB05DWrfVm"
      },
      "source": [
        "# conditional standard val column names, their values, and the column they depend on\n",
        "# [Col name, Value, Dependency]\n",
        "\n",
        "conditional_standard_val_cols = [\n",
        "  ['NotNmnhType_tab(2)', 'Collecting Note', 'Lots Notes: Passed to Object DB'],\n",
        "  ['NotNmnhWeb_tab(2)', 'Yes', 'Lots Notes: Passed to Object DB'],\n",
        "\n",
        "  ['NotNmnhType_tab(3)', 'Specimen Remark', 'Object Notes'],\n",
        "  ['NotNmnhWeb_tab(3)', 'Yes', 'Object Notes']\n",
        "]"
      ],
      "execution_count": null,
      "outputs": []
    },
    {
      "cell_type": "code",
      "metadata": {
        "id": "4rihYu72stfs"
      },
      "source": [
        "# insert standard cols, insert value only if the dependent column is not null\n",
        "\n",
        "for i in conditional_standard_val_cols:\n",
        "  add_standard_val_df[i[0]] = add_standard_val_df[i[2]].where(add_standard_val_df[i[2]].isna(), i[1])"
      ],
      "execution_count": null,
      "outputs": []
    },
    {
      "cell_type": "code",
      "metadata": {
        "colab": {
          "base_uri": "https://localhost:8080/",
          "height": 394
        },
        "id": "JBAw0z0xprMh",
        "outputId": "167b1f02-7ab9-4461-93ad-32c8ff878875"
      },
      "source": [
        "add_standard_val_df.head()"
      ],
      "execution_count": null,
      "outputs": [
        {
          "output_type": "execute_result",
          "data": {
            "text/html": [
              "<div>\n",
              "<style scoped>\n",
              "    .dataframe tbody tr th:only-of-type {\n",
              "        vertical-align: middle;\n",
              "    }\n",
              "\n",
              "    .dataframe tbody tr th {\n",
              "        vertical-align: top;\n",
              "    }\n",
              "\n",
              "    .dataframe thead th {\n",
              "        text-align: right;\n",
              "    }\n",
              "</style>\n",
              "<table border=\"1\" class=\"dataframe\">\n",
              "  <thead>\n",
              "    <tr style=\"text-align: right;\">\n",
              "      <th></th>\n",
              "      <th>ZooPreparationCount_tab</th>\n",
              "      <th>ZooPrepLocationRef_tab.irn</th>\n",
              "      <th>NotNmnhWeb_tab(1)</th>\n",
              "      <th>NotNmnhType_tab(1)</th>\n",
              "      <th>StaRecordRemarks_tab</th>\n",
              "      <th>StaRecordDate0</th>\n",
              "      <th>StaRecordStatus_tab</th>\n",
              "      <th>CatOtherNumbersSource_tab(2)</th>\n",
              "      <th>CatOtherNumbersType_tab(2)</th>\n",
              "      <th>CatOtherNumbersSource_tab(1)</th>\n",
              "      <th>CatOtherNumbersType_tab(1)</th>\n",
              "      <th>CatObjectType</th>\n",
              "      <th>CatCatalog</th>\n",
              "      <th>Lot Number</th>\n",
              "      <th>Collectors Number</th>\n",
              "      <th>Biotic Region</th>\n",
              "      <th>Country</th>\n",
              "      <th>MajorUnit</th>\n",
              "      <th>MinorUnit</th>\n",
              "      <th>Locality Displacement</th>\n",
              "      <th>MidHabitat</th>\n",
              "      <th>Microhabitat</th>\n",
              "      <th>Collection Year</th>\n",
              "      <th>Collection Month</th>\n",
              "      <th>Collection Day</th>\n",
              "      <th>Collectors</th>\n",
              "      <th>LatD</th>\n",
              "      <th>LatM</th>\n",
              "      <th>LatS</th>\n",
              "      <th>LatNS</th>\n",
              "      <th>LongD</th>\n",
              "      <th>LongM</th>\n",
              "      <th>LongS</th>\n",
              "      <th>LongEW</th>\n",
              "      <th>Elevation meters</th>\n",
              "      <th>Elevation meters higher</th>\n",
              "      <th>Elevation feet</th>\n",
              "      <th>Elevation feet higher</th>\n",
              "      <th>Collection Method</th>\n",
              "      <th>Lot Specimen Association</th>\n",
              "      <th>Lots Notes ex Lots DB</th>\n",
              "      <th>Lots Notes: Passed to Object DB</th>\n",
              "      <th>Depository</th>\n",
              "      <th>Object Number Prefix</th>\n",
              "      <th>USNM Collection Object Number</th>\n",
              "      <th>Object Category</th>\n",
              "      <th>Kingdom</th>\n",
              "      <th>Order</th>\n",
              "      <th>Family</th>\n",
              "      <th>Genus</th>\n",
              "      <th>Genus ex TaxonDB</th>\n",
              "      <th>Species</th>\n",
              "      <th>Species ex TaxonDB</th>\n",
              "      <th>Determined by</th>\n",
              "      <th>Workers</th>\n",
              "      <th>Males</th>\n",
              "      <th>Pupae</th>\n",
              "      <th>Alate_Females</th>\n",
              "      <th>Dealate_Females</th>\n",
              "      <th>Larvae</th>\n",
              "      <th>Object Notes</th>\n",
              "      <th>LatLong Source</th>\n",
              "      <th>NotNmnhType_tab(2)</th>\n",
              "      <th>NotNmnhWeb_tab(2)</th>\n",
              "      <th>NotNmnhType_tab(3)</th>\n",
              "      <th>NotNmnhWeb_tab(3)</th>\n",
              "    </tr>\n",
              "  </thead>\n",
              "  <tbody>\n",
              "    <tr>\n",
              "      <th>0</th>\n",
              "      <td>1</td>\n",
              "      <td>10028267</td>\n",
              "      <td>Yes</td>\n",
              "      <td>Lot Specimen Association</td>\n",
              "      <td>Submitted by T. Schultz, SI</td>\n",
              "      <td>November  2020</td>\n",
              "      <td>Reviewed</td>\n",
              "      <td>label</td>\n",
              "      <td>Collector No.</td>\n",
              "      <td>AntLab FileMaker Database</td>\n",
              "      <td>Schultz Lot No.</td>\n",
              "      <td>Specimen/lot</td>\n",
              "      <td>Specimen Inventory</td>\n",
              "      <td>1</td>\n",
              "      <td>TRS920517-01</td>\n",
              "      <td>NEO</td>\n",
              "      <td>Costa Rica</td>\n",
              "      <td>NaN</td>\n",
              "      <td>Las Alturas (Cotón)</td>\n",
              "      <td>Las Alturas Biol Stn</td>\n",
              "      <td>NaN</td>\n",
              "      <td>NaN</td>\n",
              "      <td>1992</td>\n",
              "      <td>May</td>\n",
              "      <td>17</td>\n",
              "      <td>T.R. Schultz</td>\n",
              "      <td>8</td>\n",
              "      <td>57</td>\n",
              "      <td>NaN</td>\n",
              "      <td>N</td>\n",
              "      <td>82</td>\n",
              "      <td>50</td>\n",
              "      <td>NaN</td>\n",
              "      <td>W</td>\n",
              "      <td>1540</td>\n",
              "      <td>NaN</td>\n",
              "      <td>NaN</td>\n",
              "      <td>NaN</td>\n",
              "      <td>hand</td>\n",
              "      <td>strays</td>\n",
              "      <td>Beginning of C Trail</td>\n",
              "      <td>NaN</td>\n",
              "      <td>NaN</td>\n",
              "      <td>NaN</td>\n",
              "      <td>NaN</td>\n",
              "      <td>NaN</td>\n",
              "      <td>NaN</td>\n",
              "      <td>NaN</td>\n",
              "      <td>NaN</td>\n",
              "      <td>NaN</td>\n",
              "      <td>NaN</td>\n",
              "      <td>NaN</td>\n",
              "      <td>NaN</td>\n",
              "      <td>NaN</td>\n",
              "      <td>NaN</td>\n",
              "      <td>NaN</td>\n",
              "      <td>NaN</td>\n",
              "      <td>NaN</td>\n",
              "      <td>NaN</td>\n",
              "      <td>NaN</td>\n",
              "      <td>NaN</td>\n",
              "      <td>NaN</td>\n",
              "      <td>NaN</td>\n",
              "      <td>NaN</td>\n",
              "      <td>NaN</td>\n",
              "      <td>NaN</td>\n",
              "    </tr>\n",
              "    <tr>\n",
              "      <th>1</th>\n",
              "      <td>1</td>\n",
              "      <td>10028267</td>\n",
              "      <td>Yes</td>\n",
              "      <td>Lot Specimen Association</td>\n",
              "      <td>Submitted by T. Schultz, SI</td>\n",
              "      <td>November  2020</td>\n",
              "      <td>Reviewed</td>\n",
              "      <td>label</td>\n",
              "      <td>Collector No.</td>\n",
              "      <td>AntLab FileMaker Database</td>\n",
              "      <td>Schultz Lot No.</td>\n",
              "      <td>Specimen/lot</td>\n",
              "      <td>Specimen Inventory</td>\n",
              "      <td>1</td>\n",
              "      <td>TRS920517-01</td>\n",
              "      <td>NEO</td>\n",
              "      <td>Costa Rica</td>\n",
              "      <td>NaN</td>\n",
              "      <td>Las Alturas (Cotón)</td>\n",
              "      <td>Las Alturas Biol Stn</td>\n",
              "      <td>NaN</td>\n",
              "      <td>NaN</td>\n",
              "      <td>1992</td>\n",
              "      <td>May</td>\n",
              "      <td>17</td>\n",
              "      <td>T.R. Schultz</td>\n",
              "      <td>8</td>\n",
              "      <td>57</td>\n",
              "      <td>NaN</td>\n",
              "      <td>N</td>\n",
              "      <td>82</td>\n",
              "      <td>50</td>\n",
              "      <td>NaN</td>\n",
              "      <td>W</td>\n",
              "      <td>1540</td>\n",
              "      <td>NaN</td>\n",
              "      <td>NaN</td>\n",
              "      <td>NaN</td>\n",
              "      <td>hand</td>\n",
              "      <td>strays</td>\n",
              "      <td>NaN</td>\n",
              "      <td>Beginning of C Trail</td>\n",
              "      <td>NaN</td>\n",
              "      <td>USNMENT</td>\n",
              "      <td>NaN</td>\n",
              "      <td>NaN</td>\n",
              "      <td>NaN</td>\n",
              "      <td>NaN</td>\n",
              "      <td>NaN</td>\n",
              "      <td>NaN</td>\n",
              "      <td>Sericomyrmex</td>\n",
              "      <td>NaN</td>\n",
              "      <td>amabilis</td>\n",
              "      <td>NaN</td>\n",
              "      <td>0</td>\n",
              "      <td>0</td>\n",
              "      <td>0</td>\n",
              "      <td>0</td>\n",
              "      <td>0</td>\n",
              "      <td>0</td>\n",
              "      <td>NaN</td>\n",
              "      <td>NaN</td>\n",
              "      <td>Collecting Note</td>\n",
              "      <td>Yes</td>\n",
              "      <td>NaN</td>\n",
              "      <td>NaN</td>\n",
              "    </tr>\n",
              "    <tr>\n",
              "      <th>2</th>\n",
              "      <td>1</td>\n",
              "      <td>10028267</td>\n",
              "      <td>Yes</td>\n",
              "      <td>Lot Specimen Association</td>\n",
              "      <td>Submitted by T. Schultz, SI</td>\n",
              "      <td>November  2020</td>\n",
              "      <td>Reviewed</td>\n",
              "      <td>label</td>\n",
              "      <td>Collector No.</td>\n",
              "      <td>AntLab FileMaker Database</td>\n",
              "      <td>Schultz Lot No.</td>\n",
              "      <td>Specimen/lot</td>\n",
              "      <td>Specimen Inventory</td>\n",
              "      <td>2</td>\n",
              "      <td>TRS920517-02</td>\n",
              "      <td>NEO</td>\n",
              "      <td>Costa Rica</td>\n",
              "      <td>NaN</td>\n",
              "      <td>Las Alturas (Cotón)</td>\n",
              "      <td>Las Alturas Biol Stn</td>\n",
              "      <td>NaN</td>\n",
              "      <td>rotten log</td>\n",
              "      <td>1992</td>\n",
              "      <td>May</td>\n",
              "      <td>17</td>\n",
              "      <td>T.R. Schultz</td>\n",
              "      <td>8</td>\n",
              "      <td>57</td>\n",
              "      <td>NaN</td>\n",
              "      <td>N</td>\n",
              "      <td>82</td>\n",
              "      <td>50</td>\n",
              "      <td>NaN</td>\n",
              "      <td>W</td>\n",
              "      <td>1540</td>\n",
              "      <td>NaN</td>\n",
              "      <td>NaN</td>\n",
              "      <td>NaN</td>\n",
              "      <td>hand</td>\n",
              "      <td>strays</td>\n",
              "      <td>50m onto C Trail</td>\n",
              "      <td>NaN</td>\n",
              "      <td>NaN</td>\n",
              "      <td>NaN</td>\n",
              "      <td>NaN</td>\n",
              "      <td>NaN</td>\n",
              "      <td>NaN</td>\n",
              "      <td>NaN</td>\n",
              "      <td>NaN</td>\n",
              "      <td>NaN</td>\n",
              "      <td>NaN</td>\n",
              "      <td>NaN</td>\n",
              "      <td>NaN</td>\n",
              "      <td>NaN</td>\n",
              "      <td>NaN</td>\n",
              "      <td>NaN</td>\n",
              "      <td>NaN</td>\n",
              "      <td>NaN</td>\n",
              "      <td>NaN</td>\n",
              "      <td>NaN</td>\n",
              "      <td>NaN</td>\n",
              "      <td>NaN</td>\n",
              "      <td>NaN</td>\n",
              "      <td>NaN</td>\n",
              "      <td>NaN</td>\n",
              "      <td>NaN</td>\n",
              "    </tr>\n",
              "    <tr>\n",
              "      <th>3</th>\n",
              "      <td>1</td>\n",
              "      <td>10028267</td>\n",
              "      <td>Yes</td>\n",
              "      <td>Lot Specimen Association</td>\n",
              "      <td>Submitted by T. Schultz, SI</td>\n",
              "      <td>November  2020</td>\n",
              "      <td>Reviewed</td>\n",
              "      <td>label</td>\n",
              "      <td>Collector No.</td>\n",
              "      <td>AntLab FileMaker Database</td>\n",
              "      <td>Schultz Lot No.</td>\n",
              "      <td>Specimen/lot</td>\n",
              "      <td>Specimen Inventory</td>\n",
              "      <td>2</td>\n",
              "      <td>TRS920517-02</td>\n",
              "      <td>NEO</td>\n",
              "      <td>Costa Rica</td>\n",
              "      <td>NaN</td>\n",
              "      <td>Las Alturas (Cotón)</td>\n",
              "      <td>Las Alturas Biol Stn</td>\n",
              "      <td>NaN</td>\n",
              "      <td>rotten log</td>\n",
              "      <td>1992</td>\n",
              "      <td>May</td>\n",
              "      <td>17</td>\n",
              "      <td>T.R. Schultz</td>\n",
              "      <td>8</td>\n",
              "      <td>57</td>\n",
              "      <td>NaN</td>\n",
              "      <td>N</td>\n",
              "      <td>82</td>\n",
              "      <td>50</td>\n",
              "      <td>NaN</td>\n",
              "      <td>W</td>\n",
              "      <td>1540</td>\n",
              "      <td>NaN</td>\n",
              "      <td>NaN</td>\n",
              "      <td>NaN</td>\n",
              "      <td>hand</td>\n",
              "      <td>strays</td>\n",
              "      <td>NaN</td>\n",
              "      <td>50m onto C Trail</td>\n",
              "      <td>USNM</td>\n",
              "      <td>USNMENT</td>\n",
              "      <td>00302600</td>\n",
              "      <td>vial</td>\n",
              "      <td>Animalia</td>\n",
              "      <td>Pseudoscorpion</td>\n",
              "      <td>NaN</td>\n",
              "      <td>NaN</td>\n",
              "      <td>NaN</td>\n",
              "      <td>NaN</td>\n",
              "      <td>NaN</td>\n",
              "      <td>NaN</td>\n",
              "      <td>0</td>\n",
              "      <td>0</td>\n",
              "      <td>0</td>\n",
              "      <td>0</td>\n",
              "      <td>0</td>\n",
              "      <td>0</td>\n",
              "      <td>NaN</td>\n",
              "      <td>NaN</td>\n",
              "      <td>Collecting Note</td>\n",
              "      <td>Yes</td>\n",
              "      <td>NaN</td>\n",
              "      <td>NaN</td>\n",
              "    </tr>\n",
              "    <tr>\n",
              "      <th>4</th>\n",
              "      <td>1</td>\n",
              "      <td>10028267</td>\n",
              "      <td>Yes</td>\n",
              "      <td>Lot Specimen Association</td>\n",
              "      <td>Submitted by T. Schultz, SI</td>\n",
              "      <td>November  2020</td>\n",
              "      <td>Reviewed</td>\n",
              "      <td>label</td>\n",
              "      <td>Collector No.</td>\n",
              "      <td>AntLab FileMaker Database</td>\n",
              "      <td>Schultz Lot No.</td>\n",
              "      <td>Specimen/lot</td>\n",
              "      <td>Specimen Inventory</td>\n",
              "      <td>3</td>\n",
              "      <td>TRS920517-03</td>\n",
              "      <td>NEO</td>\n",
              "      <td>Costa Rica</td>\n",
              "      <td>NaN</td>\n",
              "      <td>Las Alturas (Cotón)</td>\n",
              "      <td>Las Alturas Biol Stn</td>\n",
              "      <td>NaN</td>\n",
              "      <td>Rotten log</td>\n",
              "      <td>1992</td>\n",
              "      <td>May</td>\n",
              "      <td>17</td>\n",
              "      <td>T.R. Schultz</td>\n",
              "      <td>8</td>\n",
              "      <td>57</td>\n",
              "      <td>NaN</td>\n",
              "      <td>N</td>\n",
              "      <td>82</td>\n",
              "      <td>50</td>\n",
              "      <td>NaN</td>\n",
              "      <td>W</td>\n",
              "      <td>1540</td>\n",
              "      <td>NaN</td>\n",
              "      <td>NaN</td>\n",
              "      <td>NaN</td>\n",
              "      <td>Hand</td>\n",
              "      <td>Strays</td>\n",
              "      <td>NaN</td>\n",
              "      <td>NaN</td>\n",
              "      <td>NaN</td>\n",
              "      <td>NaN</td>\n",
              "      <td>NaN</td>\n",
              "      <td>NaN</td>\n",
              "      <td>NaN</td>\n",
              "      <td>NaN</td>\n",
              "      <td>NaN</td>\n",
              "      <td>NaN</td>\n",
              "      <td>NaN</td>\n",
              "      <td>NaN</td>\n",
              "      <td>NaN</td>\n",
              "      <td>NaN</td>\n",
              "      <td>NaN</td>\n",
              "      <td>NaN</td>\n",
              "      <td>NaN</td>\n",
              "      <td>NaN</td>\n",
              "      <td>NaN</td>\n",
              "      <td>NaN</td>\n",
              "      <td>NaN</td>\n",
              "      <td>NaN</td>\n",
              "      <td>NaN</td>\n",
              "      <td>NaN</td>\n",
              "      <td>NaN</td>\n",
              "      <td>NaN</td>\n",
              "    </tr>\n",
              "  </tbody>\n",
              "</table>\n",
              "</div>"
            ],
            "text/plain": [
              "  ZooPreparationCount_tab  ... NotNmnhWeb_tab(3)\n",
              "0                       1  ...               NaN\n",
              "1                       1  ...               NaN\n",
              "2                       1  ...               NaN\n",
              "3                       1  ...               NaN\n",
              "4                       1  ...               NaN\n",
              "\n",
              "[5 rows x 66 columns]"
            ]
          },
          "metadata": {
            "tags": []
          },
          "execution_count": 12
        }
      ]
    },
    {
      "cell_type": "markdown",
      "metadata": {
        "id": "2RRR92gouxI3"
      },
      "source": [
        "### Rename headers: Green columns, Pt 1 of Yellow columns"
      ]
    },
    {
      "cell_type": "code",
      "metadata": {
        "id": "I0Ddt05eu6jO"
      },
      "source": [
        "#duplicate standard val df\n",
        "rename_headers_df = add_standard_val_df.copy(deep=True)"
      ],
      "execution_count": null,
      "outputs": []
    },
    {
      "cell_type": "code",
      "metadata": {
        "id": "XmxYJ5tXxYXQ"
      },
      "source": [
        "#cols that will be renamed\n",
        "#[New col name, Old col name]\n",
        "\n",
        "rename_cols = [\n",
        "  ['CatOtherNumbersValue_tab(1)' , 'Lot Number'],\n",
        "  ['CatOtherNumbersValue_tab(2)' , 'Collectors Number'],\n",
        "  ['BioEventSiteRef.LocCountry' , 'Country'],\n",
        "  ['BioEventSiteRef.LocPreciseLocation' , 'Locality Displacement'],\n",
        "  ['BioEventSiteRef.AquHabitatDescription' , 'MidHabitat'],\n",
        "  ['BioMicrohabitatDescription' , 'Microhabitat'],\n",
        "  ['BioEventSiteRef.TerElevationFromMet' , 'Elevation meters'],\n",
        "  ['BioEventSiteRef.ColCollectionMethod' , 'Collection Method'],\n",
        "  ['NotNmnhText0(1)', 'Lot Specimen Association'],\n",
        "  ['NotNmnhText0(2)', 'Lots Notes: Passed to Object DB'],\n",
        "  ['NotNmnhText0(3)', 'Object Notes'],\n",
        "  ['ZooPreparation_tab' , 'Object Category'],\n",
        "\n",
        "  ['BioEventSiteRef.LocBiogeographicalRegion' , 'Biotic Region'],\n",
        "  ['BioEventSiteRef.LocProvinceStateTerritory' , 'MajorUnit'],\n",
        "  ['BioEventSiteRef.LocDistrictCountyShire' , 'MinorUnit'],\n",
        "  ['BioEventSiteRef.TerElevationToMet' , 'Elevation meters higher']\n",
        "]"
      ],
      "execution_count": null,
      "outputs": []
    },
    {
      "cell_type": "code",
      "metadata": {
        "id": "S8wjGKq4xxa0"
      },
      "source": [
        "#rename the headers\n",
        "for i in rename_cols:\n",
        "  rename_headers_df = rename_headers_df.rename(columns = {i[1]:i[0]})"
      ],
      "execution_count": null,
      "outputs": []
    },
    {
      "cell_type": "code",
      "metadata": {
        "id": "hgRsnJrINV-S"
      },
      "source": [
        "#extra step: if null, backfill elevationtomet with elevationfrommet\n",
        "rename_headers_df['BioEventSiteRef.TerElevationToMet'] = rename_headers_df['BioEventSiteRef.TerElevationToMet'].fillna(rename_headers_df['BioEventSiteRef.TerElevationFromMet'])"
      ],
      "execution_count": null,
      "outputs": []
    },
    {
      "cell_type": "markdown",
      "metadata": {
        "id": "3S7G-NbXzdnZ"
      },
      "source": [
        "### Duplicate column and add new header: Orange columns"
      ]
    },
    {
      "cell_type": "code",
      "metadata": {
        "id": "C1AcbV6w5t9u"
      },
      "source": [
        "#duplicate standard val df\n",
        "new_duplicated_df = rename_headers_df.copy(deep=True)"
      ],
      "execution_count": null,
      "outputs": []
    },
    {
      "cell_type": "code",
      "metadata": {
        "id": "qwnuELO6zlij"
      },
      "source": [
        "#cols that will be duplicated with a new header\n",
        "#[New col name, Col that it is duplicated from]\n",
        "\n",
        "new_duplicated_cols = [\n",
        "  ['BioEventSiteRef.ColSiteVisitNumbers_tab','CatOtherNumbersValue_tab(2)']\n",
        "]"
      ],
      "execution_count": null,
      "outputs": []
    },
    {
      "cell_type": "code",
      "metadata": {
        "id": "R1EOKLcW6KG8"
      },
      "source": [
        "#add the new columns\n",
        "for i in new_duplicated_cols:\n",
        "  new_duplicated_df[i[0]] = new_duplicated_df[i[1]]"
      ],
      "execution_count": null,
      "outputs": []
    },
    {
      "cell_type": "markdown",
      "metadata": {
        "id": "635SlvQ47Otu"
      },
      "source": [
        "### Remove abbreviations, fill in blanks with [Not Stated]: Pt 2 of Yellow columns"
      ]
    },
    {
      "cell_type": "code",
      "metadata": {
        "id": "4ErJzQ-xAn6j"
      },
      "source": [
        "#duplicate the new duplicated cols df\n",
        "abb_blanks_df = new_duplicated_df.copy(deep=True)"
      ],
      "execution_count": null,
      "outputs": []
    },
    {
      "cell_type": "markdown",
      "metadata": {
        "id": "_DbH01FCGDII"
      },
      "source": [
        "Abbreviations"
      ]
    },
    {
      "cell_type": "code",
      "metadata": {
        "id": "63gCeKze_GAM"
      },
      "source": [
        "#list of abbreviations\n",
        "#[Full terms, Abbreviation]\n",
        "\n",
        "bio_region_abbreviations = [\n",
        "  ['Neotropical' , 'NEO'],\n",
        "  ['Palearctic' , 'PAL'],\n",
        "  ['Afrotropical' , 'AFR'],\n",
        "  ['Australasian' , 'AUS'],\n",
        "  ['Neartic' , 'NEA'],\n",
        "  ['Oceanian' , 'OCE']\n",
        "]"
      ],
      "execution_count": null,
      "outputs": []
    },
    {
      "cell_type": "code",
      "metadata": {
        "id": "WY04-JezDHZw"
      },
      "source": [
        "full_term = []\n",
        "abbreviation = []\n",
        "\n",
        "for i in bio_region_abbreviations:\n",
        "  full_term.append(i[0])\n",
        "  abbreviation.append(i[1])"
      ],
      "execution_count": null,
      "outputs": []
    },
    {
      "cell_type": "code",
      "metadata": {
        "id": "YY8rzmTtBGe8"
      },
      "source": [
        "#replace abbreviations\n",
        "abb_blanks_df['BioEventSiteRef.LocBiogeographicalRegion'] = abb_blanks_df['BioEventSiteRef.LocBiogeographicalRegion'].replace(abbreviation,full_term)"
      ],
      "execution_count": null,
      "outputs": []
    },
    {
      "cell_type": "markdown",
      "metadata": {
        "id": "QYEMl42AGJaG"
      },
      "source": [
        "Blanks"
      ]
    },
    {
      "cell_type": "code",
      "metadata": {
        "id": "rGUeyB4mFcod"
      },
      "source": [
        "replace_blanks_cols = [\n",
        "  ['BioEventSiteRef.LocProvinceStateTerritory'],\n",
        "  ['BioEventSiteRef.LocDistrictCountyShire']\n",
        "]"
      ],
      "execution_count": null,
      "outputs": []
    },
    {
      "cell_type": "code",
      "metadata": {
        "id": "x9CN0qJuG2OQ"
      },
      "source": [
        "for i in replace_blanks_cols:\n",
        "  abb_blanks_df[i] = abb_blanks_df[i].fillna('[Not Stated]')"
      ],
      "execution_count": null,
      "outputs": []
    },
    {
      "cell_type": "markdown",
      "metadata": {
        "id": "MReiFbwtaVBH"
      },
      "source": [
        "## STEP 4"
      ]
    },
    {
      "cell_type": "code",
      "metadata": {
        "id": "4rkQ-B9PdIGm"
      },
      "source": [
        "#duplicate the abbreviations and blanks df\n",
        "concats_df = abb_blanks_df.copy(deep=True)"
      ],
      "execution_count": null,
      "outputs": []
    },
    {
      "cell_type": "code",
      "metadata": {
        "id": "OUfqBh0DaqA6"
      },
      "source": [
        "# cols that get concatenated into a new column\n",
        "# [[List of output column names], [List of columns to concatenate], what to put between concatenated values aka a space or no]\n",
        "\n",
        "cols_to_concat = [\n",
        "  [['CatBarcode'],['Object Number Prefix','USNM Collection Object Number'],''],\n",
        "  [['ColDateVisitedFrom','ColDateVisitedTo'],['Collection Day', 'Collection Month', 'Collection Year'], ' '],\n",
        "  [['LatLatitude_nesttab'],['LatD','LatM','LatS','LatNS'], ' '],\n",
        "  [['LatLatitude_nesttab'],['LongD','LongM','LongS','LongEW'], ' ']\n",
        "]"
      ],
      "execution_count": null,
      "outputs": []
    },
    {
      "cell_type": "code",
      "metadata": {
        "id": "vlVm-bo1kSdD"
      },
      "source": [
        "#add new columns that are concatenations of the columns\n",
        "for i in cols_to_concat:\n",
        "  for j in i[0]:\n",
        "    concats_df[j] = concats_df.fillna('')[i[1]].apply(lambda x: i[2].join(x.astype(str)), axis=1)"
      ],
      "execution_count": null,
      "outputs": []
    },
    {
      "cell_type": "markdown",
      "metadata": {
        "id": "3p342CB2AKfT"
      },
      "source": [
        "## STEP 5"
      ]
    },
    {
      "cell_type": "markdown",
      "metadata": {
        "id": "vMy1vmy_ATGX"
      },
      "source": [
        "### Step 5 Pt 1-3: Add Cla columns"
      ]
    },
    {
      "cell_type": "code",
      "metadata": {
        "id": "Hd9zj_vzCUIs"
      },
      "source": [
        "#duplicate the abbreviations and blanks df\n",
        "irn_df = concats_df.copy(deep=True)"
      ],
      "execution_count": null,
      "outputs": []
    },
    {
      "cell_type": "code",
      "metadata": {
        "id": "5xsyxu7SOMFK"
      },
      "source": [
        "# cols that input into the Cla columns and their \"backfill\" values\n",
        "# [Cla column name, [list of columns that go into the Cla column], backfill value]\n",
        "\n",
        "# EXCEPTIONS: \n",
        "# ClaKingdom is a direct map, does not have a backfill value\n",
        "# ClaPhylum, ClaClass are a newly added columns, all values will be the backfilled\n",
        "\n",
        "cla_inputs = [\n",
        "  ['ClaKingdom', ['Kingdom'], ''],\n",
        "  ['ClaPhylum', ['Phylum'], ''],\n",
        "  ['ClaClass', ['Class'],''],\n",
        "\n",
        "  ['ClaOrder', ['Order'], 'Unidentified'],\n",
        "  ['ClaFamily', ['Family'], 'Unidentified'],\n",
        "  ['ClaGenus', ['Genus', 'Genus ex TaxonDB'], 'Unidentified'],\n",
        "  ['ClaSpecies', ['Species', 'Species ex TaxonDB'], 'sp.']\n",
        "]"
      ],
      "execution_count": null,
      "outputs": []
    },
    {
      "cell_type": "code",
      "metadata": {
        "id": "Vx-2F70oEMM9"
      },
      "source": [
        "irn_df = irn_df.reset_index(drop = True)\n",
        "# generate Cla values\n",
        "for cla_set in cla_inputs:\n",
        "  #add empty Cla column\n",
        "  irn_df[cla_set[0]] = cla_set[2]\n",
        "\n",
        "  for index, row in irn_df.iterrows():\n",
        "    #default input is the backfill value\n",
        "    cla_val = cla_set[2]\n",
        "\n",
        "    #if the input column exists, check if there's a non null value in the input columns\n",
        "    for col in cla_set[1]:\n",
        "      if col in irn_df.columns and pd.isna(row[col]) is False:\n",
        "        cla_val = row[col]\n",
        "\n",
        "    irn_df.at[index,cla_set[0]] = cla_val"
      ],
      "execution_count": null,
      "outputs": []
    },
    {
      "cell_type": "markdown",
      "metadata": {
        "id": "a8odIiPCeI5D"
      },
      "source": [
        "### Step 5 Part 4: Concat the Cla columns to make a new column for the lookup"
      ]
    },
    {
      "cell_type": "code",
      "metadata": {
        "id": "DBR9xiDUe_Pu"
      },
      "source": [
        "# columns that get concatenated for the Cla\n",
        "cla_concat = ['ClaOrder','ClaFamily','ClaGenus','ClaSpecies']"
      ],
      "execution_count": null,
      "outputs": []
    },
    {
      "cell_type": "code",
      "metadata": {
        "id": "xrmwPNhLezvs"
      },
      "source": [
        "#concat into the new col\n",
        "irn_df['ClaConcatenated'] = irn_df.fillna('')[cla_concat].apply(lambda x: ' '.join(x.astype(str)), axis=1)"
      ],
      "execution_count": null,
      "outputs": []
    },
    {
      "cell_type": "markdown",
      "metadata": {
        "id": "qRf2zzQnflMs"
      },
      "source": [
        "### Step 5 Part 5: Left join the input file with the lookup file to get the IRN numbers"
      ]
    },
    {
      "cell_type": "code",
      "metadata": {
        "id": "jkd0YEwtlPI2"
      },
      "source": [
        "# what to match on and what to pull\n",
        "col_to_match_on = 'ClaConcatenated'\n",
        "\n",
        "import_col_to_match_to = 'for match'\n",
        "import_col_to_include = 'IRN'"
      ],
      "execution_count": null,
      "outputs": []
    },
    {
      "cell_type": "code",
      "metadata": {
        "id": "rImnLwEVqwO4"
      },
      "source": [
        "#there are occasionally multiple IRNs that could match to the concatenated Cla value, get the first match\n",
        "irn_lookups = irn_lookups.groupby('for match',as_index=False).first()"
      ],
      "execution_count": null,
      "outputs": []
    },
    {
      "cell_type": "code",
      "metadata": {
        "id": "LPRUQQ-7kUus"
      },
      "source": [
        "#merge\n",
        "irn_df = irn_df.merge(irn_lookups[list((import_col_to_match_to, import_col_to_include))], how = 'left', left_on = col_to_match_on, right_on = import_col_to_match_to)\n",
        "\n",
        "#rename merged columns\n",
        "irn_df = irn_df.rename(columns = {'IRN':'IdeTaxonRef_tab.irn'})"
      ],
      "execution_count": null,
      "outputs": []
    },
    {
      "cell_type": "markdown",
      "metadata": {
        "id": "vtDB9bemIDVr"
      },
      "source": [
        "## STEP 6"
      ]
    },
    {
      "cell_type": "code",
      "metadata": {
        "id": "tb7vSMDlFADs"
      },
      "source": [
        "#duplicate the irns df\n",
        "parties_df = irn_df.copy(deep=True)"
      ],
      "execution_count": null,
      "outputs": []
    },
    {
      "cell_type": "code",
      "metadata": {
        "id": "YqqbSIGEJcsL"
      },
      "source": [
        "# split the Collectors column by a \", \" delimiter\n",
        "split_collectors_df = parties_df['Collectors'].str.split(', |& ', expand = True)"
      ],
      "execution_count": null,
      "outputs": []
    },
    {
      "cell_type": "code",
      "metadata": {
        "id": "y0uyN1dHTgpK"
      },
      "source": [
        "#get col names of the parsed Collectors df\n",
        "cols = split_collectors_df.columns.values\n",
        "\n",
        "for i in cols:\n",
        "  #and rename them so they're strings\n",
        "  split_collectors_df = split_collectors_df.rename(columns={i: \"Party\" + i.astype(str)})\n",
        "\n",
        "str_cols = split_collectors_df.columns.values"
      ],
      "execution_count": null,
      "outputs": []
    },
    {
      "cell_type": "code",
      "metadata": {
        "id": "G9ch8lCvTuCb"
      },
      "source": [
        "#vlookup for parties matches\n",
        "split_collectors_dftest = split_collectors_df\n",
        "\n",
        "for i in str_cols:\n",
        "  party_irn_lookups = party_irn_lookups.rename(columns={party_irn_lookups.columns[0]:i})\n",
        "  split_collectors_dftest = split_collectors_dftest.merge(party_irn_lookups, how = 'left', on = i)"
      ],
      "execution_count": null,
      "outputs": []
    },
    {
      "cell_type": "code",
      "metadata": {
        "id": "kL7KsXBOScl1"
      },
      "source": [
        "for col in split_collectors_dftest.columns.values:\n",
        "  split_collectors_dftest = split_collectors_dftest.rename(columns={col: 'BioEventSiteRef.ColParticipantRef_tab(1).irn'})"
      ],
      "execution_count": null,
      "outputs": []
    },
    {
      "cell_type": "code",
      "metadata": {
        "id": "06ASwbge_xLn"
      },
      "source": [
        "parties_df = pd.concat([parties_df,split_collectors_dftest], axis=1)"
      ],
      "execution_count": null,
      "outputs": []
    },
    {
      "cell_type": "markdown",
      "metadata": {
        "id": "R_ovgIlgITrY"
      },
      "source": [
        "### Step 6 Part 1: Only keep the columns you need"
      ]
    },
    {
      "cell_type": "code",
      "metadata": {
        "colab": {
          "base_uri": "https://localhost:8080/"
        },
        "id": "-2eRHnL-7XYE",
        "outputId": "2ce933ea-100c-4cba-e754-a11219727c43"
      },
      "source": [
        "#check which columns are available:\n",
        "parties_df.columns"
      ],
      "execution_count": null,
      "outputs": [
        {
          "output_type": "execute_result",
          "data": {
            "text/plain": [
              "Index(['ZooPreparationCount_tab', 'ZooPrepLocationRef_tab.irn',\n",
              "       'NotNmnhWeb_tab(1)', 'NotNmnhType_tab(1)', 'StaRecordRemarks_tab',\n",
              "       'StaRecordDate0', 'StaRecordStatus_tab', 'CatOtherNumbersSource_tab(2)',\n",
              "       'CatOtherNumbersType_tab(2)', 'CatOtherNumbersSource_tab(1)',\n",
              "       'CatOtherNumbersType_tab(1)', 'CatObjectType', 'CatCatalog',\n",
              "       'CatOtherNumbersValue_tab(1)', 'CatOtherNumbersValue_tab(2)',\n",
              "       'BioEventSiteRef.LocBiogeographicalRegion',\n",
              "       'BioEventSiteRef.LocCountry',\n",
              "       'BioEventSiteRef.LocProvinceStateTerritory',\n",
              "       'BioEventSiteRef.LocDistrictCountyShire',\n",
              "       'BioEventSiteRef.LocPreciseLocation',\n",
              "       'BioEventSiteRef.AquHabitatDescription', 'BioMicrohabitatDescription',\n",
              "       'Collection Year', 'Collection Month', 'Collection Day', 'Collectors',\n",
              "       'LatD', 'LatM', 'LatS', 'LatNS', 'LongD', 'LongM', 'LongS', 'LongEW',\n",
              "       'BioEventSiteRef.TerElevationFromMet',\n",
              "       'BioEventSiteRef.TerElevationToMet', 'Elevation feet',\n",
              "       'Elevation feet higher', 'BioEventSiteRef.ColCollectionMethod',\n",
              "       'NotNmnhText0(1)', 'Lots Notes ex Lots DB', 'NotNmnhText0(2)',\n",
              "       'Depository', 'Object Number Prefix', 'USNM Collection Object Number',\n",
              "       'ZooPreparation_tab', 'Kingdom', 'Order', 'Family', 'Genus',\n",
              "       'Genus ex TaxonDB', 'Species', 'Species ex TaxonDB', 'Determined by',\n",
              "       'Workers', 'Males', 'Pupae', 'Alate_Females', 'Dealate_Females',\n",
              "       'Larvae', 'NotNmnhText0(3)', 'LatLong Source', 'NotNmnhType_tab(2)',\n",
              "       'NotNmnhWeb_tab(2)', 'NotNmnhType_tab(3)', 'NotNmnhWeb_tab(3)',\n",
              "       'BioEventSiteRef.ColSiteVisitNumbers_tab', 'CatBarcode',\n",
              "       'ColDateVisitedFrom', 'ColDateVisitedTo', 'LatLatitude_nesttab',\n",
              "       'ClaKingdom', 'ClaPhylum', 'ClaClass', 'ClaOrder', 'ClaFamily',\n",
              "       'ClaGenus', 'ClaSpecies', 'ClaConcatenated', 'for match',\n",
              "       'IdeTaxonRef_tab.irn', 'BioEventSiteRef.ColParticipantRef_tab(1).irn',\n",
              "       'BioEventSiteRef.ColParticipantRef_tab(1).irn',\n",
              "       'BioEventSiteRef.ColParticipantRef_tab(1).irn',\n",
              "       'BioEventSiteRef.ColParticipantRef_tab(1).irn',\n",
              "       'BioEventSiteRef.ColParticipantRef_tab(1).irn',\n",
              "       'BioEventSiteRef.ColParticipantRef_tab(1).irn',\n",
              "       'BioEventSiteRef.ColParticipantRef_tab(1).irn',\n",
              "       'BioEventSiteRef.ColParticipantRef_tab(1).irn',\n",
              "       'BioEventSiteRef.ColParticipantRef_tab(1).irn',\n",
              "       'BioEventSiteRef.ColParticipantRef_tab(1).irn',\n",
              "       'BioEventSiteRef.ColParticipantRef_tab(1).irn',\n",
              "       'BioEventSiteRef.ColParticipantRef_tab(1).irn'],\n",
              "      dtype='object')"
            ]
          },
          "metadata": {
            "tags": []
          },
          "execution_count": 45
        }
      ]
    },
    {
      "cell_type": "code",
      "metadata": {
        "id": "Wim3taQYtpML"
      },
      "source": [
        "#out of the available columns, only include the ones needed, in the corrected order\n",
        "\n",
        "needed_columns = [\n",
        "  'CatCatalog',\n",
        "  'CatObjectType',\n",
        "  'StaRecordStatus_tab',\n",
        "  'StaRecordDate0',\n",
        "  'StaRecordRemarks_tab',\n",
        "  'CatOtherNumbersType_tab(1)',\n",
        "  'CatOtherNumbersSource_tab(1)',\n",
        "  'CatOtherNumbersValue_tab(1)',\n",
        "  'CatOtherNumbersType_tab(2)',\n",
        "  'CatOtherNumbersSource_tab(2)',\n",
        "  'CatOtherNumbersValue_tab(2)',\n",
        "  'BioEventSiteRef.ColSiteVisitNumbers_tab',\n",
        "  'BioEventSiteRef.LocBiogeographicalRegion',\n",
        "  'BioEventSiteRef.LocCountry',\n",
        "  'BioEventSiteRef.LocProvinceStateTerritory',\n",
        "  'BioEventSiteRef.LocDistrictCountyShire',\n",
        "  'BioEventSiteRef.LocPreciseLocation',\n",
        "  'BioEventSiteRef.AquHabitatDescription',\n",
        "  'BioMicrohabitatDescription',\n",
        "  'ColDateVisitedFrom',\n",
        "  'ColDateVisitedTo',\n",
        "  'BioEventSiteRef.ColParticipantRef_tab(1).irn',\n",
        "  'LatLatitude_nesttab',\n",
        "  'LatLatitude_nesttab',\n",
        "  'BioEventSiteRef.TerElevationFromMet',\n",
        "  'BioEventSiteRef.TerElevationToMet',\n",
        "  'BioEventSiteRef.ColCollectionMethod',\n",
        "  'NotNmnhText0(1)',\n",
        "  'NotNmnhType_tab(1)',\n",
        "  'NotNmnhWeb_tab(1)',\n",
        "  'NotNmnhText0(2)',\n",
        "  'NotNmnhType_tab(2)',\n",
        "  'NotNmnhWeb_tab(2)',\n",
        "  'CatBarcode',\n",
        "  'ZooPreparation_tab',\n",
        "  'ZooPrepLocationRef_tab.irn',\n",
        "  'ZooPreparationCount_tab',\n",
        "  'IdeTaxonRef_tab.irn',\n",
        "  'ClaKingdom',\n",
        "  'ClaPhylum',\n",
        "  'ClaClass',\n",
        "  'ClaOrder',\n",
        "  'ClaFamily',\n",
        "  'ClaGenus',\n",
        "  'ClaSpecies',\n",
        "  'IdeTaxonRef_tab.irn',\n",
        "  'Males',\n",
        "  'Pupae',\n",
        "  'Alate_Females',\n",
        "  'Dealate_Females',\n",
        "  'Larvae',\n",
        "  'NotNmnhText0(3)',\n",
        "  'NotNmnhType_tab(3)',\n",
        "  'NotNmnhWeb_tab(3)',\n",
        "  'OLD NEW COL SPLIT'\n",
        "]"
      ],
      "execution_count": null,
      "outputs": []
    },
    {
      "cell_type": "markdown",
      "metadata": {
        "id": "ODL3rAhgtb14"
      },
      "source": [
        "# Data Export"
      ]
    },
    {
      "cell_type": "code",
      "metadata": {
        "id": "xIUpu4coXz6r"
      },
      "source": [
        "parties_df['OLD NEW COL SPLIT'] = ''"
      ],
      "execution_count": null,
      "outputs": []
    },
    {
      "cell_type": "code",
      "metadata": {
        "id": "8pZbUrDfU5Lv"
      },
      "source": [
        "output_df = pd.concat([parties_df[needed_columns],initial_file], axis=1)"
      ],
      "execution_count": null,
      "outputs": []
    },
    {
      "cell_type": "code",
      "metadata": {
        "id": "HTJ0gMI8uVam"
      },
      "source": [
        "from google.colab import files"
      ],
      "execution_count": null,
      "outputs": []
    },
    {
      "cell_type": "code",
      "metadata": {
        "id": "0GFoEm_KIm6I"
      },
      "source": [
        "output_df.to_csv('export.csv', index = False)"
      ],
      "execution_count": null,
      "outputs": []
    },
    {
      "cell_type": "code",
      "metadata": {
        "colab": {
          "base_uri": "https://localhost:8080/",
          "height": 17
        },
        "id": "ObqVNKxNuYcS",
        "outputId": "b46eb988-0da9-4d30-d4aa-3eeb3a96c85b"
      },
      "source": [
        "files.download('export.csv')"
      ],
      "execution_count": null,
      "outputs": [
        {
          "output_type": "display_data",
          "data": {
            "application/javascript": [
              "\n",
              "    async function download(id, filename, size) {\n",
              "      if (!google.colab.kernel.accessAllowed) {\n",
              "        return;\n",
              "      }\n",
              "      const div = document.createElement('div');\n",
              "      const label = document.createElement('label');\n",
              "      label.textContent = `Downloading \"${filename}\": `;\n",
              "      div.appendChild(label);\n",
              "      const progress = document.createElement('progress');\n",
              "      progress.max = size;\n",
              "      div.appendChild(progress);\n",
              "      document.body.appendChild(div);\n",
              "\n",
              "      const buffers = [];\n",
              "      let downloaded = 0;\n",
              "\n",
              "      const channel = await google.colab.kernel.comms.open(id);\n",
              "      // Send a message to notify the kernel that we're ready.\n",
              "      channel.send({})\n",
              "\n",
              "      for await (const message of channel.messages) {\n",
              "        // Send a message to notify the kernel that we're ready.\n",
              "        channel.send({})\n",
              "        if (message.buffers) {\n",
              "          for (const buffer of message.buffers) {\n",
              "            buffers.push(buffer);\n",
              "            downloaded += buffer.byteLength;\n",
              "            progress.value = downloaded;\n",
              "          }\n",
              "        }\n",
              "      }\n",
              "      const blob = new Blob(buffers, {type: 'application/binary'});\n",
              "      const a = document.createElement('a');\n",
              "      a.href = window.URL.createObjectURL(blob);\n",
              "      a.download = filename;\n",
              "      div.appendChild(a);\n",
              "      a.click();\n",
              "      div.remove();\n",
              "    }\n",
              "  "
            ],
            "text/plain": [
              "<IPython.core.display.Javascript object>"
            ]
          },
          "metadata": {
            "tags": []
          }
        },
        {
          "output_type": "display_data",
          "data": {
            "application/javascript": [
              "download(\"download_cd565e95-70b2-44da-afe5-c2497595d9d7\", \"export.csv\", 30104269)"
            ],
            "text/plain": [
              "<IPython.core.display.Javascript object>"
            ]
          },
          "metadata": {
            "tags": []
          }
        }
      ]
    }
  ]
}